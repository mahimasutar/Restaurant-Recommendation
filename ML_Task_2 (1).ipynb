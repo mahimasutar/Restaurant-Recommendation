{
  "cells": [
    {
      "cell_type": "markdown",
      "metadata": {
        "id": "acbd000f"
      },
      "source": [
        "## Import Libraries\n",
        "\n",
        "This code imports libraries to process data with pandas, convert text into TF-IDF vectors, and measure text similarity using cosine similarity.\n",
        "\n"
      ]
    },
    {
      "cell_type": "code",
      "execution_count": 1,
      "metadata": {
        "id": "Est3NefGqnbI"
      },
      "outputs": [],
      "source": [
        "import pandas as pd\n",
        "from sklearn.feature_extraction.text import TfidfVectorizer\n",
        "from sklearn.metrics.pairwise import cosine_similarity"
      ]
    },
    {
      "cell_type": "markdown",
      "metadata": {
        "id": "06139459"
      },
      "source": [
        "## Define Data Path\n",
        "\n",
        "This code defines the variable DATA_PATH to store the file path of the dataset (Dataset.csv).\n"
      ]
    },
    {
      "cell_type": "code",
      "execution_count": 2,
      "metadata": {
        "id": "p-xeIgKeq8Ko"
      },
      "outputs": [],
      "source": [
        "DATA_PATH = \"/content/Dataset .csv\""
      ]
    },
    {
      "cell_type": "markdown",
      "metadata": {
        "id": "caa9ebd8"
      },
      "source": [
        "## Load and Preprocess Data\n",
        "\n",
        "This code loads a CSV into a DataFrame, cleans column names, and creates a new profile column by combining cuisines, city, locality, and price range into a single text field."
      ]
    },
    {
      "cell_type": "code",
      "execution_count": 3,
      "metadata": {
        "id": "ybwWSusJrBCj"
      },
      "outputs": [],
      "source": [
        "df = pd.read_csv(r\"E:\\Backup\\Mahima\\ML Internship 2025\\Dataset.csv\")\n",
        "df.columns = [c.strip().lower().replace(\" \", \"_\") for c in df.columns]\n",
        "df[\"profile\"] = (df[\"cuisines\"].fillna('') + \" | \" +\n",
        "                 df[\"city\"].fillna('') + \" | \" +\n",
        "                 df[\"locality\"].fillna('') + \" | \" +\n",
        "                 df[\"price_range\"].astype(str))"
      ]
    },
    {
      "cell_type": "markdown",
      "metadata": {
        "id": "099b2750"
      },
      "source": [
        "## Display Head of DataFrame\n",
        "\n",
        "This code displays the first five rows of the DataFrame df.\n"
      ]
    },
    {
      "cell_type": "code",
      "execution_count": 4,
      "metadata": {
        "colab": {
          "base_uri": "https://localhost:8080/",
          "height": 758
        },
        "id": "nsm-V9jYri0m",
        "outputId": "6208be62-e37a-48bc-9ab0-186e39e034c4"
      },
      "outputs": [
        {
          "data": {
            "text/html": [
              "<div>\n",
              "<style scoped>\n",
              "    .dataframe tbody tr th:only-of-type {\n",
              "        vertical-align: middle;\n",
              "    }\n",
              "\n",
              "    .dataframe tbody tr th {\n",
              "        vertical-align: top;\n",
              "    }\n",
              "\n",
              "    .dataframe thead th {\n",
              "        text-align: right;\n",
              "    }\n",
              "</style>\n",
              "<table border=\"1\" class=\"dataframe\">\n",
              "  <thead>\n",
              "    <tr style=\"text-align: right;\">\n",
              "      <th></th>\n",
              "      <th>restaurant_id</th>\n",
              "      <th>restaurant_name</th>\n",
              "      <th>country_code</th>\n",
              "      <th>city</th>\n",
              "      <th>address</th>\n",
              "      <th>locality</th>\n",
              "      <th>locality_verbose</th>\n",
              "      <th>longitude</th>\n",
              "      <th>latitude</th>\n",
              "      <th>cuisines</th>\n",
              "      <th>...</th>\n",
              "      <th>has_table_booking</th>\n",
              "      <th>has_online_delivery</th>\n",
              "      <th>is_delivering_now</th>\n",
              "      <th>switch_to_order_menu</th>\n",
              "      <th>price_range</th>\n",
              "      <th>aggregate_rating</th>\n",
              "      <th>rating_color</th>\n",
              "      <th>rating_text</th>\n",
              "      <th>votes</th>\n",
              "      <th>profile</th>\n",
              "    </tr>\n",
              "  </thead>\n",
              "  <tbody>\n",
              "    <tr>\n",
              "      <th>0</th>\n",
              "      <td>6317637</td>\n",
              "      <td>Le Petit Souffle</td>\n",
              "      <td>162</td>\n",
              "      <td>Makati City</td>\n",
              "      <td>Third Floor, Century City Mall, Kalayaan Avenu...</td>\n",
              "      <td>Century City Mall, Poblacion, Makati City</td>\n",
              "      <td>Century City Mall, Poblacion, Makati City, Mak...</td>\n",
              "      <td>121.027535</td>\n",
              "      <td>14.565443</td>\n",
              "      <td>French, Japanese, Desserts</td>\n",
              "      <td>...</td>\n",
              "      <td>Yes</td>\n",
              "      <td>No</td>\n",
              "      <td>No</td>\n",
              "      <td>No</td>\n",
              "      <td>3</td>\n",
              "      <td>4.8</td>\n",
              "      <td>Dark Green</td>\n",
              "      <td>Excellent</td>\n",
              "      <td>314</td>\n",
              "      <td>French, Japanese, Desserts | Makati City | Cen...</td>\n",
              "    </tr>\n",
              "    <tr>\n",
              "      <th>1</th>\n",
              "      <td>6304287</td>\n",
              "      <td>Izakaya Kikufuji</td>\n",
              "      <td>162</td>\n",
              "      <td>Makati City</td>\n",
              "      <td>Little Tokyo, 2277 Chino Roces Avenue, Legaspi...</td>\n",
              "      <td>Little Tokyo, Legaspi Village, Makati City</td>\n",
              "      <td>Little Tokyo, Legaspi Village, Makati City, Ma...</td>\n",
              "      <td>121.014101</td>\n",
              "      <td>14.553708</td>\n",
              "      <td>Japanese</td>\n",
              "      <td>...</td>\n",
              "      <td>Yes</td>\n",
              "      <td>No</td>\n",
              "      <td>No</td>\n",
              "      <td>No</td>\n",
              "      <td>3</td>\n",
              "      <td>4.5</td>\n",
              "      <td>Dark Green</td>\n",
              "      <td>Excellent</td>\n",
              "      <td>591</td>\n",
              "      <td>Japanese | Makati City | Little Tokyo, Legaspi...</td>\n",
              "    </tr>\n",
              "    <tr>\n",
              "      <th>2</th>\n",
              "      <td>6300002</td>\n",
              "      <td>Heat - Edsa Shangri-La</td>\n",
              "      <td>162</td>\n",
              "      <td>Mandaluyong City</td>\n",
              "      <td>Edsa Shangri-La, 1 Garden Way, Ortigas, Mandal...</td>\n",
              "      <td>Edsa Shangri-La, Ortigas, Mandaluyong City</td>\n",
              "      <td>Edsa Shangri-La, Ortigas, Mandaluyong City, Ma...</td>\n",
              "      <td>121.056831</td>\n",
              "      <td>14.581404</td>\n",
              "      <td>Seafood, Asian, Filipino, Indian</td>\n",
              "      <td>...</td>\n",
              "      <td>Yes</td>\n",
              "      <td>No</td>\n",
              "      <td>No</td>\n",
              "      <td>No</td>\n",
              "      <td>4</td>\n",
              "      <td>4.4</td>\n",
              "      <td>Green</td>\n",
              "      <td>Very Good</td>\n",
              "      <td>270</td>\n",
              "      <td>Seafood, Asian, Filipino, Indian | Mandaluyong...</td>\n",
              "    </tr>\n",
              "    <tr>\n",
              "      <th>3</th>\n",
              "      <td>6318506</td>\n",
              "      <td>Ooma</td>\n",
              "      <td>162</td>\n",
              "      <td>Mandaluyong City</td>\n",
              "      <td>Third Floor, Mega Fashion Hall, SM Megamall, O...</td>\n",
              "      <td>SM Megamall, Ortigas, Mandaluyong City</td>\n",
              "      <td>SM Megamall, Ortigas, Mandaluyong City, Mandal...</td>\n",
              "      <td>121.056475</td>\n",
              "      <td>14.585318</td>\n",
              "      <td>Japanese, Sushi</td>\n",
              "      <td>...</td>\n",
              "      <td>No</td>\n",
              "      <td>No</td>\n",
              "      <td>No</td>\n",
              "      <td>No</td>\n",
              "      <td>4</td>\n",
              "      <td>4.9</td>\n",
              "      <td>Dark Green</td>\n",
              "      <td>Excellent</td>\n",
              "      <td>365</td>\n",
              "      <td>Japanese, Sushi | Mandaluyong City | SM Megama...</td>\n",
              "    </tr>\n",
              "    <tr>\n",
              "      <th>4</th>\n",
              "      <td>6314302</td>\n",
              "      <td>Sambo Kojin</td>\n",
              "      <td>162</td>\n",
              "      <td>Mandaluyong City</td>\n",
              "      <td>Third Floor, Mega Atrium, SM Megamall, Ortigas...</td>\n",
              "      <td>SM Megamall, Ortigas, Mandaluyong City</td>\n",
              "      <td>SM Megamall, Ortigas, Mandaluyong City, Mandal...</td>\n",
              "      <td>121.057508</td>\n",
              "      <td>14.584450</td>\n",
              "      <td>Japanese, Korean</td>\n",
              "      <td>...</td>\n",
              "      <td>Yes</td>\n",
              "      <td>No</td>\n",
              "      <td>No</td>\n",
              "      <td>No</td>\n",
              "      <td>4</td>\n",
              "      <td>4.8</td>\n",
              "      <td>Dark Green</td>\n",
              "      <td>Excellent</td>\n",
              "      <td>229</td>\n",
              "      <td>Japanese, Korean | Mandaluyong City | SM Megam...</td>\n",
              "    </tr>\n",
              "  </tbody>\n",
              "</table>\n",
              "<p>5 rows × 22 columns</p>\n",
              "</div>"
            ],
            "text/plain": [
              "   restaurant_id         restaurant_name  country_code              city  \\\n",
              "0        6317637        Le Petit Souffle           162       Makati City   \n",
              "1        6304287        Izakaya Kikufuji           162       Makati City   \n",
              "2        6300002  Heat - Edsa Shangri-La           162  Mandaluyong City   \n",
              "3        6318506                    Ooma           162  Mandaluyong City   \n",
              "4        6314302             Sambo Kojin           162  Mandaluyong City   \n",
              "\n",
              "                                             address  \\\n",
              "0  Third Floor, Century City Mall, Kalayaan Avenu...   \n",
              "1  Little Tokyo, 2277 Chino Roces Avenue, Legaspi...   \n",
              "2  Edsa Shangri-La, 1 Garden Way, Ortigas, Mandal...   \n",
              "3  Third Floor, Mega Fashion Hall, SM Megamall, O...   \n",
              "4  Third Floor, Mega Atrium, SM Megamall, Ortigas...   \n",
              "\n",
              "                                     locality  \\\n",
              "0   Century City Mall, Poblacion, Makati City   \n",
              "1  Little Tokyo, Legaspi Village, Makati City   \n",
              "2  Edsa Shangri-La, Ortigas, Mandaluyong City   \n",
              "3      SM Megamall, Ortigas, Mandaluyong City   \n",
              "4      SM Megamall, Ortigas, Mandaluyong City   \n",
              "\n",
              "                                    locality_verbose   longitude   latitude  \\\n",
              "0  Century City Mall, Poblacion, Makati City, Mak...  121.027535  14.565443   \n",
              "1  Little Tokyo, Legaspi Village, Makati City, Ma...  121.014101  14.553708   \n",
              "2  Edsa Shangri-La, Ortigas, Mandaluyong City, Ma...  121.056831  14.581404   \n",
              "3  SM Megamall, Ortigas, Mandaluyong City, Mandal...  121.056475  14.585318   \n",
              "4  SM Megamall, Ortigas, Mandaluyong City, Mandal...  121.057508  14.584450   \n",
              "\n",
              "                           cuisines  ...  has_table_booking  \\\n",
              "0        French, Japanese, Desserts  ...                Yes   \n",
              "1                          Japanese  ...                Yes   \n",
              "2  Seafood, Asian, Filipino, Indian  ...                Yes   \n",
              "3                   Japanese, Sushi  ...                 No   \n",
              "4                  Japanese, Korean  ...                Yes   \n",
              "\n",
              "  has_online_delivery is_delivering_now switch_to_order_menu price_range  \\\n",
              "0                  No                No                   No           3   \n",
              "1                  No                No                   No           3   \n",
              "2                  No                No                   No           4   \n",
              "3                  No                No                   No           4   \n",
              "4                  No                No                   No           4   \n",
              "\n",
              "  aggregate_rating  rating_color  rating_text votes  \\\n",
              "0              4.8    Dark Green    Excellent   314   \n",
              "1              4.5    Dark Green    Excellent   591   \n",
              "2              4.4         Green    Very Good   270   \n",
              "3              4.9    Dark Green    Excellent   365   \n",
              "4              4.8    Dark Green    Excellent   229   \n",
              "\n",
              "                                             profile  \n",
              "0  French, Japanese, Desserts | Makati City | Cen...  \n",
              "1  Japanese | Makati City | Little Tokyo, Legaspi...  \n",
              "2  Seafood, Asian, Filipino, Indian | Mandaluyong...  \n",
              "3  Japanese, Sushi | Mandaluyong City | SM Megama...  \n",
              "4  Japanese, Korean | Mandaluyong City | SM Megam...  \n",
              "\n",
              "[5 rows x 22 columns]"
            ]
          },
          "execution_count": 4,
          "metadata": {},
          "output_type": "execute_result"
        }
      ],
      "source": [
        "df.head()"
      ]
    },
    {
      "cell_type": "markdown",
      "metadata": {
        "id": "bf270730"
      },
      "source": [
        "## Create TF-IDF Vectorizer and Matrix\n",
        "\n",
        "This code converts the profile column into a TF-IDF feature matrix X using TfidfVectorizer."
      ]
    },
    {
      "cell_type": "code",
      "execution_count": 5,
      "metadata": {
        "id": "6zchgr1NrEr0"
      },
      "outputs": [],
      "source": [
        "tfidf = TfidfVectorizer(token_pattern=r\"[A-Za-z0-9_]+\")\n",
        "X = tfidf.fit_transform(df[\"profile\"].astype(str))"
      ]
    },
    {
      "cell_type": "markdown",
      "metadata": {
        "id": "2a03d600"
      },
      "source": [
        "## Define Recommendation Function\n",
        "\n",
        "This function generates restaurant recommendations by matching user preferences to the dataset using TF-IDF vectors and cosine similarity, returning the top k similar results."
      ]
    },
    {
      "cell_type": "code",
      "execution_count": 6,
      "metadata": {
        "id": "2iyqFLV1rJBt"
      },
      "outputs": [],
      "source": [
        "def recommend(user_prefs, top_k=5):\n",
        "    query = \" | \".join([str(v) for v in user_prefs.values() if v])\n",
        "    q_vec = tfidf.transform([query])\n",
        "    sims = cosine_similarity(q_vec, X).ravel()\n",
        "    top_idx = sims.argsort()[::-1][:top_k]\n",
        "    return df.iloc[top_idx][[\"restaurant_name\",\"city\",\"locality\",\"cuisines\",\"aggregate_rating\"]]"
      ]
    },
    {
      "cell_type": "markdown",
      "metadata": {
        "id": "85f00699"
      },
      "source": [
        "## Test Recommendation Function\n",
        "\n",
        "This code prints the top 5 restaurant recommendations in Makati City serving French cuisine based on similarity scores."
      ]
    },
    {
      "cell_type": "code",
      "execution_count": 7,
      "metadata": {
        "colab": {
          "base_uri": "https://localhost:8080/"
        },
        "id": "aS-YJe4xrOF-",
        "outputId": "e51fd0de-a62a-4353-d4b3-c410c1d13cac"
      },
      "outputs": [
        {
          "name": "stdout",
          "output_type": "stream",
          "text": [
            "                  restaurant_name             city  \\\n",
            "0                Le Petit Souffle      Makati City   \n",
            "1                Izakaya Kikufuji      Makati City   \n",
            "3257                 Bonne Bouche        New Delhi   \n",
            "9329  Hippopotamus - Museum Hotel  Wellington City   \n",
            "460                          Jaan        Singapore   \n",
            "\n",
            "                                        locality                    cuisines  \\\n",
            "0      Century City Mall, Poblacion, Makati City  French, Japanese, Desserts   \n",
            "1     Little Tokyo, Legaspi Village, Makati City                    Japanese   \n",
            "3257                              Defence Colony             Italian, French   \n",
            "9329                                      Te Aro                French, Kiwi   \n",
            "460                     City Hall, Downtown Core                      French   \n",
            "\n",
            "      aggregate_rating  \n",
            "0                  4.8  \n",
            "1                  4.5  \n",
            "3257               4.1  \n",
            "9329               4.4  \n",
            "460                3.8  \n"
          ]
        }
      ],
      "source": [
        "print(recommend({\"cuisines\":\"French\",\"city\":\"Makati City\"}, top_k=5))"
      ]
    }
  ],
  "metadata": {
    "colab": {
      "provenance": []
    },
    "kernelspec": {
      "display_name": "Python 3",
      "name": "python3"
    },
    "language_info": {
      "codemirror_mode": {
        "name": "ipython",
        "version": 3
      },
      "file_extension": ".py",
      "mimetype": "text/x-python",
      "name": "python",
      "nbconvert_exporter": "python",
      "pygments_lexer": "ipython3",
      "version": "3.13.5"
    }
  },
  "nbformat": 4,
  "nbformat_minor": 0
}
